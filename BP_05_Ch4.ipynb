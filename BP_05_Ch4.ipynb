{
  "nbformat": 4,
  "nbformat_minor": 0,
  "metadata": {
    "colab": {
      "provenance": [],
      "authorship_tag": "ABX9TyMznXObnO/WRexcUBaB1zX5",
      "include_colab_link": true
    },
    "kernelspec": {
      "name": "python3",
      "display_name": "Python 3"
    },
    "language_info": {
      "name": "python"
    }
  },
  "cells": [
    {
      "cell_type": "markdown",
      "metadata": {
        "id": "view-in-github",
        "colab_type": "text"
      },
      "source": [
        "<a href=\"https://colab.research.google.com/github/rladbstj/BP_05_Ch4/blob/main/BP_05_Ch4.ipynb\" target=\"_parent\"><img src=\"https://colab.research.google.com/assets/colab-badge.svg\" alt=\"Open In Colab\"/></a>"
      ]
    },
    {
      "cell_type": "markdown",
      "source": [
        "1. 왜 다음과 같은 수식이 오류를 발생시키는가? 올바르게 수정하라.\n",
        "\n",
        "['나는' + 12 + '개의 사과를 먹었다.']"
      ],
      "metadata": {
        "id": "hdi7E9Vju_Ay"
      }
    },
    {
      "cell_type": "code",
      "source": [
        "print('나는' + str(12) + '개의 사과를 먹었다')  # +를 , 로 교체하고 str(12)대신 12를 넣어도 출력가능"
      ],
      "metadata": {
        "colab": {
          "base_uri": "https://localhost:8080/"
        },
        "id": "KjuVPsqSvi8r",
        "outputId": "577d36c9-56c8-48cc-c1dd-286391fd48ab"
      },
      "execution_count": 1,
      "outputs": [
        {
          "output_type": "stream",
          "name": "stdout",
          "text": [
            "나는12개의 사과를 먹었다\n"
          ]
        }
      ]
    },
    {
      "cell_type": "markdown",
      "source": [
        "2. 다음과 같은 수식을 계산하면 결과는 무엇인가?\n",
        "\n",
        "['apple' + 'grape']\n",
        "\n",
        "['apple' * 3]"
      ],
      "metadata": {
        "id": "8eDeGL-NvAjv"
      }
    },
    {
      "cell_type": "code",
      "source": [
        "print('apple' + 'grape')\n",
        "print('apple' * 3)"
      ],
      "metadata": {
        "colab": {
          "base_uri": "https://localhost:8080/"
        },
        "id": "Rv5j113avi_f",
        "outputId": "2581771e-aa73-435f-f3aa-b8f60f1f13c3"
      },
      "execution_count": 2,
      "outputs": [
        {
          "output_type": "stream",
          "name": "stdout",
          "text": [
            "applegrape\n",
            "appleappleapple\n"
          ]
        }
      ]
    },
    {
      "cell_type": "markdown",
      "source": [
        "3. 다음과 같이 사용자가 입력한 문자열 중에서 처음 2 글자와 마지막 2글자를 추출한 후에 이들을 합쳐서 출력해보자."
      ],
      "metadata": {
        "id": "8-6R6jYWvAmf"
      }
    },
    {
      "cell_type": "code",
      "source": [
        "str = input(\"문자열을 입력하시오: \")\n",
        "s = str[0:2] + str[-2:]\n",
        "\n",
        "print(s)"
      ],
      "metadata": {
        "colab": {
          "base_uri": "https://localhost:8080/"
        },
        "id": "MoXclbgBvjCX",
        "outputId": "2d41bbed-16eb-4d39-8cee-4e17fab03299"
      },
      "execution_count": 3,
      "outputs": [
        {
          "output_type": "stream",
          "name": "stdout",
          "text": [
            "문자열을 입력하시오: python\n",
            "pyon\n"
          ]
        }
      ]
    },
    {
      "cell_type": "markdown",
      "source": [
        "4. 다음과 같이 사용자가 입력한 문자열 뒤에 항상 \"하는 중\"을 붙이는 프로그램을 작성해보자.\n"
      ],
      "metadata": {
        "id": "0sX7NnwLvApY"
      }
    },
    {
      "cell_type": "code",
      "source": [
        "s=input(\"문자열을 입력하시오: \")\n",
        "s += \"하는 중\"\n",
        "print(s)"
      ],
      "metadata": {
        "colab": {
          "base_uri": "https://localhost:8080/"
        },
        "id": "YPJFWiCvvjFO",
        "outputId": "3b9fb71c-5f26-4b35-9686-414695969f93"
      },
      "execution_count": 4,
      "outputs": [
        {
          "output_type": "stream",
          "name": "stdout",
          "text": [
            "문자열을 입력하시오: 공부\n",
            "공부하는 중\n"
          ]
        }
      ]
    },
    {
      "cell_type": "markdown",
      "source": [
        "5. 사용자가 입력한 기호 안에 문자열을 삽입하려면 어떻게 해야 하는가? 기호는 문자 2개로 이루어있다고 가정한다.\n"
      ],
      "metadata": {
        "id": "P-r2fvOvvAse"
      }
    },
    {
      "cell_type": "code",
      "source": [
        "str = input(\"기호를 입력하시오: \")\n",
        "word = input(\"중간에 삽입할 문자열을 입력하시오: \")\n",
        "s = str[:1] + word + str[1:]\n",
        "\n",
        "print(s)"
      ],
      "metadata": {
        "colab": {
          "base_uri": "https://localhost:8080/"
        },
        "id": "OP9LU8zKvjH0",
        "outputId": "99e7bc07-bf19-4c7b-edfb-a4d79ef8ba01"
      },
      "execution_count": 5,
      "outputs": [
        {
          "output_type": "stream",
          "name": "stdout",
          "text": [
            "기호를 입력하시오: []\n",
            "중간에 삽입할 문자열을 입력하시오: Python\n",
            "[Python]\n"
          ]
        }
      ]
    },
    {
      "cell_type": "markdown",
      "source": [
        "6. 4개의 숫자가 들어 있는 리스트가 있다. 리스트 안의 숫자들을 꺼내서 합계를 계산하여 출력하는 프로그램을 작성하라. 반복문은 사용하지 않는다. 리스트의 길이는 항상 4라고 가정한다."
      ],
      "metadata": {
        "id": "_0-rh5j-vAvU"
      }
    },
    {
      "cell_type": "code",
      "source": [
        "lista = [1, 2, 3, 4]\n",
        "sum = 0\n",
        "sum = lista[0] +lista[1] +lista[2] +lista[3]   # 인덱스는 0 부터 센다. 그러므로 1,2,3,4,가 아니라 0,1,2,3을 넣어야 됨.\n",
        "print(\"리스트 = \", lista)\n",
        "print(\"리스트 숫자들의 합 = \",sum)\n"
      ],
      "metadata": {
        "colab": {
          "base_uri": "https://localhost:8080/"
        },
        "id": "FzMHS1wgvjKv",
        "outputId": "dd69c720-d214-4497-fe57-6744d66a547c"
      },
      "execution_count": 6,
      "outputs": [
        {
          "output_type": "stream",
          "name": "stdout",
          "text": [
            "리스트 =  [1, 2, 3, 4]\n",
            "리스트 숫자들의 합 =  10\n"
          ]
        }
      ]
    },
    {
      "cell_type": "markdown",
      "source": [
        "7. 사용자가 입력하는 3가지 색상을 리스트에 저장하였다가 하나씩 꺼내서 그 색상으로 채워진 원을 그리는 \n",
        "프로그램을 작성해보자. 반복문은 사용하지 않는다. 채워진 원을 그리려면 다음과 같은 문장을 사용한다.\n"
      ],
      "metadata": {
        "id": "PyX6VfabvAyc"
      }
    },
    {
      "cell_type": "code",
      "source": [
        "import turtle\n",
        "t = turtle.Turtle()\n",
        "t.shape(\"turtle\")\n",
        "\n",
        "lista = [ ]\n",
        "color = input(\"색상 #1을 입력하시오: \") \n",
        "lista.append(color)\n",
        "color = input(\"색상 #2을 입력하시오: \") \n",
        "lista.append(color)\n",
        "color = input(\"색상 #3을 입력하시오: \") \n",
        "lista.append(color)\n",
        "\n",
        "t.fillcolor(lista[0])\n",
        "t.begin_fill()\n",
        "t.circle(50)\n",
        "t.end_fill()\n",
        "\n",
        "t.up()\n",
        "t.goto(100, 0)\n",
        "t.down()\n",
        "t.fillcolor(lista[1])\n",
        "t.begin_fill()\n",
        "t.circle(50)\n",
        "t.end_fill()\n",
        "\n",
        "t.up()\n",
        "t.goto(200, 0)\n",
        "t.down()\n",
        "t.fillcolor(lista[2])\n",
        "t.begin_fill()\n",
        "t.circle(50)\n",
        "t.end_fill()\n",
        "t._screen.exitonclick() # 화면을 마우스로 클릭해야 종료되게 하는 부분"
      ],
      "metadata": {
        "id": "9nD-JF55vjNj"
      },
      "execution_count": null,
      "outputs": []
    },
    {
      "cell_type": "markdown",
      "source": [
        "8. 사용자가 입력하는 3개의 좌표(x, y)를 리스트에 저장한다. 이들 좌표를 꺼내서 거북이를 이동하는 프로그램을 작성해보자."
      ],
      "metadata": {
        "id": "7_6FxmGMvdBB"
      }
    },
    {
      "cell_type": "code",
      "source": [
        "import turtle\n",
        "t = turtle.Turtle() t.shape(\"turtle\")\n",
        "lista = [ ]\n",
        "\n",
        "lista.append(int(input(\"x1: \")))\n",
        "lista.append(int(input(\"y1: \")))\n",
        "lista.append(int(input(\"x2: \")))\n",
        "lista.append(int(input(\"y2: \")))\n",
        "lista.append(int(input(\"x3: \")))\n",
        "lista.append(int(input(\"y3: \")))\n",
        "\n",
        "t.goto(lista[0], lista[1])\n",
        "t.goto(lista[2], lista[3])\n",
        "t.goto(lista[4], lista[5])\n",
        "t._screen.exitonclick() # 화면을 마우스로 클릭해야 종료되게 하는 부분"
      ],
      "metadata": {
        "id": "MKmPYY67vjP5"
      },
      "execution_count": null,
      "outputs": []
    }
  ]
}